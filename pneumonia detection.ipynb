{
 "cells": [
  {
   "cell_type": "code",
   "execution_count": 1,
   "metadata": {},
   "outputs": [
    {
     "name": "stderr",
     "output_type": "stream",
     "text": [
      "2022-07-31 12:29:38.827734: W tensorflow/stream_executor/platform/default/dso_loader.cc:64] Could not load dynamic library 'libcudart.so.11.0'; dlerror: libcudart.so.11.0: cannot open shared object file: No such file or directory\n",
      "2022-07-31 12:29:38.827769: I tensorflow/stream_executor/cuda/cudart_stub.cc:29] Ignore above cudart dlerror if you do not have a GPU set up on your machine.\n"
     ]
    }
   ],
   "source": [
    "from keras.preprocessing.image import ImageDataGenerator\n",
    "from keras.models import Sequential\n",
    "from keras.layers import Conv2D, MaxPooling2D\n",
    "from keras.layers import Activation, Dropout, Flatten, Dense\n",
    "from keras import backend as K\n",
    "img_width, img_height = 224, 224"
   ]
  },
  {
   "cell_type": "code",
   "execution_count": 2,
   "metadata": {},
   "outputs": [],
   "source": [
    "train_data_dir = 'chest_xray/train'\n",
    "validation_data_dir = 'chest_xray/val'\n",
    "nb_train_samples =5216\n",
    "nb_validation_samples =16\n",
    "epochs = 10\n",
    "batch_size = 16"
   ]
  },
  {
   "cell_type": "code",
   "execution_count": 3,
   "metadata": {},
   "outputs": [],
   "source": [
    "if K.image_data_format() == 'channels_first':\n",
    "    input_shape = (3, img_width, img_height)\n",
    "else:\n",
    "    input_shape = (img_width, img_height, 3)\n"
   ]
  },
  {
   "cell_type": "code",
   "execution_count": 4,
   "metadata": {},
   "outputs": [
    {
     "name": "stderr",
     "output_type": "stream",
     "text": [
      "2022-07-31 12:29:41.617423: W tensorflow/stream_executor/platform/default/dso_loader.cc:64] Could not load dynamic library 'libcuda.so.1'; dlerror: libcuda.so.1: cannot open shared object file: No such file or directory\n",
      "2022-07-31 12:29:41.617476: W tensorflow/stream_executor/cuda/cuda_driver.cc:269] failed call to cuInit: UNKNOWN ERROR (303)\n",
      "2022-07-31 12:29:41.617508: I tensorflow/stream_executor/cuda/cuda_diagnostics.cc:156] kernel driver does not appear to be running on this host (janani-Vostro-15-3568): /proc/driver/nvidia/version does not exist\n",
      "2022-07-31 12:29:41.617911: I tensorflow/core/platform/cpu_feature_guard.cc:151] This TensorFlow binary is optimized with oneAPI Deep Neural Network Library (oneDNN) to use the following CPU instructions in performance-critical operations:  AVX2 FMA\n",
      "To enable them in other operations, rebuild TensorFlow with the appropriate compiler flags.\n"
     ]
    }
   ],
   "source": [
    "model = Sequential()\n",
    "model.add(Conv2D(32, (2, 2), input_shape=input_shape))\n",
    "model.add(Activation('relu'))\n",
    "model.add(MaxPooling2D(pool_size=(2, 2)))\n",
    "\n",
    "model.add(Conv2D(32, (2, 2)))\n",
    "model.add(Activation('relu'))\n",
    "model.add(MaxPooling2D(pool_size=(2, 2)))\n",
    "\n",
    "model.add(Conv2D(64, (2, 2)))\n",
    "model.add(Activation('relu'))\n",
    "model.add(MaxPooling2D(pool_size=(2, 2)))\n",
    "\n",
    "model.add(Flatten())\n",
    "model.add(Dense(64))\n",
    "model.add(Activation('relu'))\n",
    "model.add(Dropout(0.5))\n",
    "model.add(Dense(1))\n",
    "model.add(Activation('sigmoid'))"
   ]
  },
  {
   "cell_type": "code",
   "execution_count": 5,
   "metadata": {},
   "outputs": [],
   "source": [
    "model.compile(loss='binary_crossentropy',optimizer='rmsprop',metrics=['accuracy'])"
   ]
  },
  {
   "cell_type": "code",
   "execution_count": 6,
   "metadata": {},
   "outputs": [
    {
     "name": "stdout",
     "output_type": "stream",
     "text": [
      "Found 5216 images belonging to 2 classes.\n",
      "Found 16 images belonging to 2 classes.\n"
     ]
    },
    {
     "name": "stderr",
     "output_type": "stream",
     "text": [
      "/tmp/ipykernel_23083/3616972421.py:8: UserWarning: `Model.fit_generator` is deprecated and will be removed in a future version. Please use `Model.fit`, which supports generators.\n",
      "  model.fit_generator(train_generator,steps_per_epoch=nb_train_samples // batch_size,epochs=epochs,validation_data=validation_generator,validation_steps=nb_validation_samples // batch_size)\n"
     ]
    },
    {
     "name": "stdout",
     "output_type": "stream",
     "text": [
      "Epoch 1/10\n"
     ]
    },
    {
     "name": "stderr",
     "output_type": "stream",
     "text": [
      "2022-07-31 12:29:45.540517: W tensorflow/core/framework/cpu_allocator_impl.cc:82] Allocation of 101844992 exceeds 10% of free system memory.\n",
      "2022-07-31 12:29:46.620679: W tensorflow/core/framework/cpu_allocator_impl.cc:82] Allocation of 50466816 exceeds 10% of free system memory.\n",
      "2022-07-31 12:29:46.623526: W tensorflow/core/framework/cpu_allocator_impl.cc:82] Allocation of 101844992 exceeds 10% of free system memory.\n"
     ]
    },
    {
     "name": "stdout",
     "output_type": "stream",
     "text": [
      "\r",
      "  1/326 [..............................] - ETA: 22:15 - loss: 0.7227 - accuracy: 0.3750"
     ]
    },
    {
     "name": "stderr",
     "output_type": "stream",
     "text": [
      "2022-07-31 12:29:47.509261: W tensorflow/core/framework/cpu_allocator_impl.cc:82] Allocation of 101844992 exceeds 10% of free system memory.\n",
      "2022-07-31 12:29:48.184899: W tensorflow/core/framework/cpu_allocator_impl.cc:82] Allocation of 50466816 exceeds 10% of free system memory.\n"
     ]
    },
    {
     "name": "stdout",
     "output_type": "stream",
     "text": [
      "326/326 [==============================] - 300s 910ms/step - loss: 0.3808 - accuracy: 0.8422 - val_loss: 0.9658 - val_accuracy: 0.6250\n",
      "Epoch 2/10\n",
      "326/326 [==============================] - 247s 758ms/step - loss: 0.2470 - accuracy: 0.9036 - val_loss: 0.6999 - val_accuracy: 0.6875\n",
      "Epoch 3/10\n",
      "326/326 [==============================] - 205s 627ms/step - loss: 0.2196 - accuracy: 0.9206 - val_loss: 0.6306 - val_accuracy: 0.6250\n",
      "Epoch 4/10\n",
      "326/326 [==============================] - 186s 568ms/step - loss: 0.2003 - accuracy: 0.9294 - val_loss: 1.7226 - val_accuracy: 0.6250\n",
      "Epoch 5/10\n",
      "326/326 [==============================] - 186s 568ms/step - loss: 0.1960 - accuracy: 0.9340 - val_loss: 1.2912 - val_accuracy: 0.6250\n",
      "Epoch 6/10\n",
      "326/326 [==============================] - 184s 564ms/step - loss: 0.1891 - accuracy: 0.9337 - val_loss: 0.4676 - val_accuracy: 0.6875\n",
      "Epoch 7/10\n",
      "326/326 [==============================] - 2051s 6s/step - loss: 0.1831 - accuracy: 0.9387 - val_loss: 0.5980 - val_accuracy: 0.7500\n",
      "Epoch 8/10\n",
      "326/326 [==============================] - 185s 566ms/step - loss: 0.1737 - accuracy: 0.9387 - val_loss: 0.7859 - val_accuracy: 0.7500\n",
      "Epoch 9/10\n",
      "326/326 [==============================] - 184s 562ms/step - loss: 0.1783 - accuracy: 0.9406 - val_loss: 0.7728 - val_accuracy: 0.7500\n",
      "Epoch 10/10\n",
      "326/326 [==============================] - 184s 563ms/step - loss: 0.1749 - accuracy: 0.9452 - val_loss: 0.9104 - val_accuracy: 0.6250\n"
     ]
    },
    {
     "data": {
      "text/plain": [
       "<keras.callbacks.History at 0x7f2205beed30>"
      ]
     },
     "execution_count": 6,
     "metadata": {},
     "output_type": "execute_result"
    }
   ],
   "source": [
    "train_datagen = ImageDataGenerator(rescale=1. / 255,shear_range=0.2,zoom_range=0.2,horizontal_flip=True)\n",
    "\n",
    "test_datagen = ImageDataGenerator(rescale=1. / 255)\n",
    "\n",
    "train_generator = train_datagen.flow_from_directory(train_data_dir,target_size=(img_width, img_height),batch_size=batch_size,class_mode='binary')\n",
    "validation_generator = test_datagen.flow_from_directory(validation_data_dir,target_size=(img_width, img_height),batch_size=batch_size,class_mode='binary')\n",
    "\n",
    "model.fit_generator(train_generator,steps_per_epoch=nb_train_samples // batch_size,epochs=epochs,validation_data=validation_generator,validation_steps=nb_validation_samples // batch_size)\n"
   ]
  },
  {
   "cell_type": "code",
   "execution_count": 7,
   "metadata": {},
   "outputs": [],
   "source": [
    "model.save('model_saved.h5')"
   ]
  },
  {
   "cell_type": "code",
   "execution_count": 8,
   "metadata": {},
   "outputs": [
    {
     "name": "stdout",
     "output_type": "stream",
     "text": [
      "(224, 224, 3)\n",
      "Normal\n"
     ]
    }
   ],
   "source": [
    "from keras.models import load_model\n",
    "from keras.preprocessing.image import load_img\n",
    "from keras.preprocessing.image import img_to_array\n",
    "from keras.applications.vgg16 import preprocess_input\n",
    "from keras.applications.vgg16 import decode_predictions\n",
    "from keras.applications.vgg16 import VGG16\n",
    "import numpy as np\n",
    "from keras.models import load_model\n",
    "model1 = load_model('model_saved.h5')\n",
    "image = load_img('chest_xray/test/NORMAL/IM-0001-0001.jpeg', target_size=(224, 224))\n",
    "img = np.array(image)\n",
    "print(img.shape)\n",
    "img = img / 255.0\n",
    "img = img.reshape(1,224,224,3)\n",
    "label = (model1.predict(img) > 0.5).astype('int32')\n",
    "result=\"Pneumonia\" if label else \"Normal\"\n",
    "print(result)"
   ]
  },
  {
   "cell_type": "code",
   "execution_count": null,
   "metadata": {},
   "outputs": [],
   "source": []
  }
 ],
 "metadata": {
  "kernelspec": {
   "display_name": "Python 3 (ipykernel)",
   "language": "python",
   "name": "python3"
  },
  "language_info": {
   "codemirror_mode": {
    "name": "ipython",
    "version": 3
   },
   "file_extension": ".py",
   "mimetype": "text/x-python",
   "name": "python",
   "nbconvert_exporter": "python",
   "pygments_lexer": "ipython3",
   "version": "3.8.10"
  }
 },
 "nbformat": 4,
 "nbformat_minor": 4
}
